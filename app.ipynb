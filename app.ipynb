{
 "cells": [
  {
   "cell_type": "code",
   "execution_count": null,
   "id": "5b0493d2-d454-4cea-b86b-86e2750b1203",
   "metadata": {},
   "outputs": [],
   "source": [
    "from flask import Flask, request, jsonify, render_template\n",
    "import joblib\n",
    "import numpy as np\n",
    "\n",
    "# Load saved model and scaler\n",
    "model = joblib.load(\"Fish Model.pkl\")\n",
    "scaler = joblib.load(\"Fish scaler.pkl\")\n",
    "label_encoder = joblib.load(\"label_encoder.pkl\")\n",
    "\n",
    "# Initialize Flask app\n",
    "app = Flask(__name__, template_folder=\"index.html\")\n",
    "\n",
    "# Serve the HTML frontend\n",
    "@app.route('/')\n",
    "def home():\n",
    "    return render_template('index.html')  # This serves the HTML file\n",
    "\n",
    "# Prediction API\n",
    "@app.route('/predict', methods=['POST'])\n",
    "def predict():\n",
    "    try:\n",
    "        # Get input data from request\n",
    "        data = request.get_json()\n",
    "        features = [data['features']]\n",
    "        \n",
    "        # Scale the input features\n",
    "        scaled_features = scaler.transform(features)\n",
    "        \n",
    "        # Make a prediction\n",
    "        species_pred = model.predict(scaled_features)[0]\n",
    "        species_name = label_encoder.inverse_transform([species_pred])[0]\n",
    "\n",
    "        return jsonify({\"predicted_species\": species_name})\n",
    "    \n",
    "    except Exception as e:\n",
    "        return jsonify({\"error\": str(e)})\n",
    "\n",
    "# Run Flask inside Jupyter Notebook\n",
    "if __name__ == '__main__':\n",
    "    app.run(debug=True, use_reloader=False)\n"
   ]
  },
  {
   "cell_type": "code",
   "execution_count": null,
   "id": "c5146c32-7c3c-468f-b9dd-1b2523e3233a",
   "metadata": {},
   "outputs": [],
   "source": []
  }
 ],
 "metadata": {
  "kernelspec": {
   "display_name": "Python 3 (ipykernel)",
   "language": "python",
   "name": "python3"
  },
  "language_info": {
   "codemirror_mode": {
    "name": "ipython",
    "version": 3
   },
   "file_extension": ".py",
   "mimetype": "text/x-python",
   "name": "python",
   "nbconvert_exporter": "python",
   "pygments_lexer": "ipython3",
   "version": "3.11.7"
  }
 },
 "nbformat": 4,
 "nbformat_minor": 5
}
