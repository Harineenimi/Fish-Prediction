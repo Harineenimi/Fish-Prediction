{
 "cells": [
  {
   "cell_type": "code",
   "execution_count": null,
   "id": "5b0493d2-d454-4cea-b86b-86e2750b1203",
   "metadata": {},
   "outputs": [
    {
     "name": "stdout",
     "output_type": "stream",
     "text": [
      " * Serving Flask app '__main__'\n",
      " * Debug mode: on\n"
     ]
    },
    {
     "name": "stderr",
     "output_type": "stream",
     "text": [
      "WARNING: This is a development server. Do not use it in a production deployment. Use a production WSGI server instead.\n",
      " * Running on http://127.0.0.1:5000\n",
      "Press CTRL+C to quit\n",
      "127.0.0.1 - - [13/Mar/2025 17:02:16] \"GET / HTTP/1.1\" 200 -\n",
      "127.0.0.1 - - [13/Mar/2025 17:02:16] \"GET /favicon.ico HTTP/1.1\" 404 -\n",
      "C:\\ProgramData\\anaconda3\\Lib\\site-packages\\sklearn\\base.py:493: UserWarning: X does not have valid feature names, but StandardScaler was fitted with feature names\n",
      "  warnings.warn(\n",
      "127.0.0.1 - - [13/Mar/2025 17:03:33] \"POST /predict HTTP/1.1\" 200 -\n"
     ]
    }
   ],
   "source": [
    "from flask import Flask, request, jsonify, send_file  # ✅ Import send_file\n",
    "import joblib\n",
    "import numpy as np\n",
    "import os\n",
    "\n",
    "# Load saved model and scaler\n",
    "model = joblib.load(\"Fish Model.pkl\")\n",
    "scaler = joblib.load(\"Fish scaler.pkl\")\n",
    "label_encoder = joblib.load(\"label_encoder.pkl\")\n",
    "\n",
    "# Initialize Flask app\n",
    "app = Flask(__name__, template_folder=\"index.html\")\n",
    "\n",
    "# Serve the HTML frontend\n",
    "@app.route('/')\n",
    "def home():\n",
    "     return send_file('index.html')   # This serves the HTML file\n",
    "\n",
    "# Prediction API\n",
    "@app.route('/predict', methods=['POST'])\n",
    "def predict():\n",
    "    try:\n",
    "        # Get input data from request\n",
    "        data = request.get_json()\n",
    "        features = [data['features']]\n",
    "        \n",
    "        # Scale the input features\n",
    "        scaled_features = scaler.transform(features)\n",
    "        \n",
    "        # Make a prediction\n",
    "        species_pred = model.predict(scaled_features)[0]\n",
    "        species_name = label_encoder.inverse_transform([species_pred])[0]\n",
    "\n",
    "        return jsonify({\"predicted_species\": species_name})\n",
    "    \n",
    "    except Exception as e:\n",
    "        return jsonify({\"error\": str(e)})\n",
    "\n",
    "# Run Flask inside Jupyter Notebook\n",
    "if __name__ == '__main__':\n",
    "    app.run(debug=True, use_reloader=False)\n"
   ]
  },
  {
   "cell_type": "code",
   "execution_count": null,
   "id": "8e09509c-f074-49af-85b7-40bb761ab381",
   "metadata": {},
   "outputs": [],
   "source": [
    "from flask import Flask, request, jsonify, send_file\n",
    "import joblib\n",
    "import numpy as np\n",
    "import os\n",
    "\n",
    "# Load saved model and scaler\n",
    "model = joblib.load(\"Fish Model.pkl\")\n",
    "scaler = joblib.load(\"Fish Scaler.pkl\")\n",
    "label_encoder = joblib.load(\"label_encoder.pkl\")\n",
    "\n",
    "# Initialize Flask app\n",
    "app = Flask(__name__)\n",
    "\n",
    "# Serve the HTML frontend\n",
    "@app.route('/')\n",
    "def home():\n",
    "    return send_file('index.html')  # ✅ Serve index.html directly from root directory\n",
    "\n",
    "# Prediction API\n",
    "@app.route('/predict', methods=['POST'])\n",
    "def predict():\n",
    "    try:\n",
    "        # Get input data from request\n",
    "        data = request.get_json()\n",
    "        features = [data['features']]\n",
    "        \n",
    "        # Scale the input features\n",
    "        scaled_features = scaler.transform(features)\n",
    "        \n",
    "        # Make a prediction\n",
    "        species_pred = model.predict(scaled_features)[0]\n",
    "        species_name = label_encoder.inverse_transform([species_pred])[0]\n",
    "\n",
    "        return jsonify({\"predicted_species\": species_name})\n",
    "    \n",
    "    except Exception as e:\n",
    "        return jsonify({\"error\": str(e)})\n",
    "\n",
    "# Run Flask for local testing and Heroku\n",
    "if __name__ == '__main__':\n",
    "    port = int(os.environ.get(\"PORT\", 5000))\n",
    "    app.run(debug=True, host=\"0.0.0.0\", port=port)\n"
   ]
  },
  {
   "cell_type": "code",
   "execution_count": null,
   "id": "bdb47641-6c84-4eea-a019-c0a71568da0a",
   "metadata": {},
   "outputs": [],
   "source": []
  }
 ],
 "metadata": {
  "kernelspec": {
   "display_name": "Python 3 (ipykernel)",
   "language": "python",
   "name": "python3"
  },
  "language_info": {
   "codemirror_mode": {
    "name": "ipython",
    "version": 3
   },
   "file_extension": ".py",
   "mimetype": "text/x-python",
   "name": "python",
   "nbconvert_exporter": "python",
   "pygments_lexer": "ipython3",
   "version": "3.11.7"
  }
 },
 "nbformat": 4,
 "nbformat_minor": 5
}
