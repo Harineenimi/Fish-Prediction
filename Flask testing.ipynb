{
 "cells": [
  {
   "cell_type": "code",
   "execution_count": 13,
   "id": "137ef8f7-4c09-4874-aa48-e16b2c67ec65",
   "metadata": {},
   "outputs": [
    {
     "name": "stdout",
     "output_type": "stream",
     "text": [
      "Requirement already satisfied: flask in c:\\users\\o\\appdata\\local\\packages\\pythonsoftwarefoundation.python.3.10_qbz5n2kfra8p0\\localcache\\local-packages\\python39\\site-packages (3.1.0)\n",
      "Requirement already satisfied: click>=8.1.3 in c:\\users\\o\\appdata\\local\\packages\\pythonsoftwarefoundation.python.3.10_qbz5n2kfra8p0\\localcache\\local-packages\\python39\\site-packages (from flask) (8.1.8)\n",
      "Requirement already satisfied: blinker>=1.9 in c:\\users\\o\\appdata\\local\\packages\\pythonsoftwarefoundation.python.3.10_qbz5n2kfra8p0\\localcache\\local-packages\\python39\\site-packages (from flask) (1.9.0)\n",
      "Requirement already satisfied: itsdangerous>=2.2 in c:\\users\\o\\appdata\\local\\packages\\pythonsoftwarefoundation.python.3.10_qbz5n2kfra8p0\\localcache\\local-packages\\python39\\site-packages (from flask) (2.2.0)\n",
      "Requirement already satisfied: Jinja2>=3.1.2 in c:\\users\\o\\appdata\\local\\packages\\pythonsoftwarefoundation.python.3.10_qbz5n2kfra8p0\\localcache\\local-packages\\python39\\site-packages (from flask) (3.1.6)\n",
      "Requirement already satisfied: Werkzeug>=3.1 in c:\\users\\o\\appdata\\local\\packages\\pythonsoftwarefoundation.python.3.10_qbz5n2kfra8p0\\localcache\\local-packages\\python39\\site-packages (from flask) (3.1.3)\n",
      "Requirement already satisfied: importlib-metadata>=3.6 in c:\\users\\o\\appdata\\local\\packages\\pythonsoftwarefoundation.python.3.10_qbz5n2kfra8p0\\localcache\\local-packages\\python39\\site-packages (from flask) (8.6.1)\n",
      "Requirement already satisfied: colorama in c:\\users\\o\\appdata\\local\\packages\\pythonsoftwarefoundation.python.3.10_qbz5n2kfra8p0\\localcache\\local-packages\\python39\\site-packages (from click>=8.1.3->flask) (0.4.6)\n",
      "Requirement already satisfied: zipp>=3.20 in c:\\users\\o\\appdata\\local\\packages\\pythonsoftwarefoundation.python.3.10_qbz5n2kfra8p0\\localcache\\local-packages\\python39\\site-packages (from importlib-metadata>=3.6->flask) (3.21.0)\n",
      "Requirement already satisfied: MarkupSafe>=2.0 in c:\\users\\o\\appdata\\local\\packages\\pythonsoftwarefoundation.python.3.10_qbz5n2kfra8p0\\localcache\\local-packages\\python39\\site-packages (from Jinja2>=3.1.2->flask) (3.0.2)\n"
     ]
    },
    {
     "name": "stderr",
     "output_type": "stream",
     "text": [
      "WARNING: You are using pip version 22.0.4; however, version 25.0.1 is available.\n",
      "You should consider upgrading via the 'C:\\Users\\O\\AppData\\Local\\Microsoft\\WindowsApps\\PythonSoftwareFoundation.Python.3.9_qbz5n2kfra8p0\\python.exe -m pip install --upgrade pip' command.\n"
     ]
    },
    {
     "name": "stdout",
     "output_type": "stream",
     "text": [
      "Requirement already satisfied: xgboost in c:\\users\\o\\appdata\\local\\packages\\pythonsoftwarefoundation.python.3.10_qbz5n2kfra8p0\\localcache\\local-packages\\python39\\site-packages (2.1.4)\n",
      "Requirement already satisfied: scipy in c:\\users\\o\\appdata\\local\\packages\\pythonsoftwarefoundation.python.3.10_qbz5n2kfra8p0\\localcache\\local-packages\\python39\\site-packages (from xgboost) (1.13.1)\n",
      "Requirement already satisfied: numpy in c:\\users\\o\\appdata\\local\\packages\\pythonsoftwarefoundation.python.3.10_qbz5n2kfra8p0\\localcache\\local-packages\\python39\\site-packages (from xgboost) (2.0.2)\n"
     ]
    },
    {
     "name": "stderr",
     "output_type": "stream",
     "text": [
      "WARNING: You are using pip version 22.0.4; however, version 25.0.1 is available.\n",
      "You should consider upgrading via the 'C:\\Users\\O\\AppData\\Local\\Microsoft\\WindowsApps\\PythonSoftwareFoundation.Python.3.9_qbz5n2kfra8p0\\python.exe -m pip install --upgrade pip' command.\n"
     ]
    },
    {
     "name": "stdout",
     "output_type": "stream",
     "text": [
      "Requirement already satisfied: requests in c:\\users\\o\\appdata\\local\\packages\\pythonsoftwarefoundation.python.3.10_qbz5n2kfra8p0\\localcache\\local-packages\\python39\\site-packages (2.32.3)\n",
      "Requirement already satisfied: charset-normalizer<4,>=2 in c:\\users\\o\\appdata\\local\\packages\\pythonsoftwarefoundation.python.3.10_qbz5n2kfra8p0\\localcache\\local-packages\\python39\\site-packages (from requests) (3.4.1)\n",
      "Requirement already satisfied: certifi>=2017.4.17 in c:\\users\\o\\appdata\\local\\packages\\pythonsoftwarefoundation.python.3.10_qbz5n2kfra8p0\\localcache\\local-packages\\python39\\site-packages (from requests) (2025.1.31)\n",
      "Requirement already satisfied: urllib3<3,>=1.21.1 in c:\\users\\o\\appdata\\local\\packages\\pythonsoftwarefoundation.python.3.10_qbz5n2kfra8p0\\localcache\\local-packages\\python39\\site-packages (from requests) (2.3.0)\n",
      "Requirement already satisfied: idna<4,>=2.5 in c:\\users\\o\\appdata\\local\\packages\\pythonsoftwarefoundation.python.3.10_qbz5n2kfra8p0\\localcache\\local-packages\\python39\\site-packages (from requests) (3.10)\n"
     ]
    },
    {
     "name": "stderr",
     "output_type": "stream",
     "text": [
      "WARNING: You are using pip version 22.0.4; however, version 25.0.1 is available.\n",
      "You should consider upgrading via the 'C:\\Users\\O\\AppData\\Local\\Microsoft\\WindowsApps\\PythonSoftwareFoundation.Python.3.9_qbz5n2kfra8p0\\python.exe -m pip install --upgrade pip' command.\n"
     ]
    }
   ],
   "source": [
    "!pip install flask\n",
    "!pip install xgboost\n",
    "!pip install requests"
   ]
  },
  {
   "cell_type": "code",
   "execution_count": 1,
   "id": "ac193eea-6778-4e6d-9d62-860adf1d516d",
   "metadata": {},
   "outputs": [
    {
     "ename": "ModuleNotFoundError",
     "evalue": "No module named 'requests'",
     "output_type": "error",
     "traceback": [
      "\u001b[1;31m---------------------------------------------------------------------------\u001b[0m",
      "\u001b[1;31mModuleNotFoundError\u001b[0m                       Traceback (most recent call last)",
      "Cell \u001b[1;32mIn[1], line 1\u001b[0m\n\u001b[1;32m----> 1\u001b[0m \u001b[38;5;28;01mimport\u001b[39;00m\u001b[38;5;250m \u001b[39m\u001b[38;5;21;01mrequests\u001b[39;00m\n\u001b[0;32m      3\u001b[0m \u001b[38;5;66;03m# Define the test input data\u001b[39;00m\n\u001b[0;32m      4\u001b[0m test_data \u001b[38;5;241m=\u001b[39m {\n\u001b[0;32m      5\u001b[0m     \u001b[38;5;124m\"\u001b[39m\u001b[38;5;124mfeatures\u001b[39m\u001b[38;5;124m\"\u001b[39m: [\u001b[38;5;241m170\u001b[39m, \u001b[38;5;241m19\u001b[39m, \u001b[38;5;241m20.7\u001b[39m, \u001b[38;5;241m23.2\u001b[39m, \u001b[38;5;241m9.396\u001b[39m ]  \u001b[38;5;66;03m# Example fish measurement\u001b[39;00m\n\u001b[0;32m      6\u001b[0m }\n",
      "\u001b[1;31mModuleNotFoundError\u001b[0m: No module named 'requests'"
     ]
    }
   ],
   "source": [
    "import requests\n",
    "\n",
    "# Define the test input data\n",
    "test_data = {\n",
    "    \"features\": [170, 19, 20.7, 23.2, 9.396 ]  # Example fish measurement\n",
    "}\n",
    "\n",
    "# Send POST request to the Flask server\"\n",
    "response = requests.post(\"http://127.0.0.1:5000/predict\", json=test_data)\n",
    "\n",
    "# Print the API response\"\n",
    "print(\"API Response:\", response.json())\n"
   ]
  },
  {
   "cell_type": "code",
   "execution_count": 4,
   "id": "13e6030f-eebe-4726-91a3-467392e289a8",
   "metadata": {},
   "outputs": [
    {
     "name": "stdout",
     "output_type": "stream",
     "text": [
      "API Response: {'predicted_species': 'Perch'}\n"
     ]
    }
   ],
   "source": [
    "# Define sample input data\n",
    "test_data = {\n",
    "    \"features\": [25.0, 27.5, 30.0, 11.0, 4.5]  # Example fish measurement\n",
    "}\n",
    "\n",
    "# Send a POST request to the running Flask server\n",
    "response = requests.post(\"http://127.0.0.1:5000/predict\", json=test_data)\n",
    "\n",
    "# Print the response\n",
    "print(\"API Response:\", response.json())\n"
   ]
  }
 ],
 "metadata": {
  "kernelspec": {
   "display_name": "Python 3",
   "language": "python",
   "name": "python3"
  },
  "language_info": {
   "codemirror_mode": {
    "name": "ipython",
    "version": 3
   },
   "file_extension": ".py",
   "mimetype": "text/x-python",
   "name": "python",
   "nbconvert_exporter": "python",
   "pygments_lexer": "ipython3",
   "version": "3.10.11"
  }
 },
 "nbformat": 4,
 "nbformat_minor": 5
}
